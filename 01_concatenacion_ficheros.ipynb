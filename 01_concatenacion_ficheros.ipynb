{
 "cells": [
  {
   "cell_type": "markdown",
   "metadata": {},
   "source": [
    "## Concatenación de ficheros:\n",
    "\n",
    "Este notebook de python se encarga de concatenar todos aquellos ficheros localizados en cada una de las carpetas para obtener un fichero final de cada una de los principales factores estudiados. Estos ficheros son los que se procesaran para obtener los resultados."
   ]
  },
  {
   "cell_type": "markdown",
   "metadata": {},
   "source": [
    "### Importación de librerías:"
   ]
  },
  {
   "cell_type": "code",
   "execution_count": 1,
   "metadata": {},
   "outputs": [],
   "source": [
    "import pandas as pd\n",
    "import glob\n",
    "import os"
   ]
  },
  {
   "cell_type": "markdown",
   "metadata": {},
   "source": [
    "### Defunciones"
   ]
  },
  {
   "cell_type": "code",
   "execution_count": 2,
   "metadata": {},
   "outputs": [],
   "source": [
    "# Ruta de los archivos CSV:\n",
    "ruta_archivos = \"../Data/Defunciones/*.csv\" \n",
    "\n",
    "# Lista de todos los archivos CSV en la carpeta:\n",
    "archivos_csv = glob.glob(ruta_archivos)\n",
    "\n",
    "# Inicialización de una lista vacía:\n",
    "dataframes = []\n",
    "\n",
    "# Iteración sobre la lista de archivos CSV:\n",
    "for i, archivo in enumerate(archivos_csv):\n",
    "    if i == 0:\n",
    "        # Lectura el primer archivo CSV, incluyendo el encabezado:\n",
    "        df = pd.read_csv(archivo)\n",
    "    else:\n",
    "        # Lectura del resto de archivos quitando el encabezado:\n",
    "        df = pd.read_csv(archivo, header=0)\n",
    "    \n",
    "    # Inclusión a la lista:\n",
    "    dataframes.append(df)\n",
    "\n",
    "# Concatenación de todos los DataFrames:\n",
    "df_concatenado = pd.concat(dataframes, ignore_index=True)\n",
    "\n",
    "# Generación del DataFrame concatenado en un nuevo archivo CSV:\n",
    "df_concatenado.to_csv(\"../01-Ficheros Concatenados/defunciones.csv\", index=False, encoding=\"UTF-8\")"
   ]
  },
  {
   "cell_type": "markdown",
   "metadata": {},
   "source": [
    "### Densidad de población"
   ]
  },
  {
   "cell_type": "code",
   "execution_count": 3,
   "metadata": {},
   "outputs": [],
   "source": [
    "# Ruta de los archivos CSV:\n",
    "ruta_archivos = \"../Data/Densidad/*.csv\" \n",
    "\n",
    "# Lista de todos los archivos CSV en la carpeta:\n",
    "archivos_csv = glob.glob(ruta_archivos)\n",
    "\n",
    "# Inicialización de una lista vacía:\n",
    "dataframes = []\n",
    "\n",
    "# Iteración sobre la lista de archivos CSV:\n",
    "for i, archivo in enumerate(archivos_csv):\n",
    "    if i == 0:\n",
    "        # Lectura el primer archivo CSV, incluyendo el encabezado:\n",
    "        df = pd.read_csv(archivo)\n",
    "    else:\n",
    "        # Lectura del resto de archivos quitando el encabezado:\n",
    "        df = pd.read_csv(archivo, header=0)\n",
    "    \n",
    "    # Inclusión a la lista:\n",
    "    dataframes.append(df)\n",
    "\n",
    "# Concatenación de todos los DataFrames:\n",
    "df_concatenado = pd.concat(dataframes, ignore_index=True)\n",
    "\n",
    "# Generación del DataFrame concatenado en un nuevo archivo CSV:\n",
    "df_concatenado.to_csv(\"../01-Ficheros Concatenados/densidad.csv\", index=False, encoding=\"UTF-8\")"
   ]
  },
  {
   "cell_type": "markdown",
   "metadata": {},
   "source": [
    "### Emigrantes"
   ]
  },
  {
   "cell_type": "code",
   "execution_count": 4,
   "metadata": {},
   "outputs": [],
   "source": [
    "# Ruta de los archivos CSV:\n",
    "ruta_archivos = \"../Data/Emigrantes/*.csv\" \n",
    "\n",
    "# Lista de todos los archivos CSV en la carpeta:\n",
    "archivos_csv = glob.glob(ruta_archivos)\n",
    "\n",
    "# Inicialización de una lista vacía:\n",
    "dataframes = []\n",
    "\n",
    "# Iteración sobre la lista de archivos CSV:\n",
    "for i, archivo in enumerate(archivos_csv):\n",
    "    if i == 0:\n",
    "        # Lectura el primer archivo CSV, incluyendo el encabezado:\n",
    "        df = pd.read_csv(archivo)\n",
    "    else:\n",
    "        # Lectura del resto de archivos quitando el encabezado:\n",
    "        df = pd.read_csv(archivo, header=0)\n",
    "    \n",
    "    # Inclusión a la lista:\n",
    "    dataframes.append(df)\n",
    "\n",
    "# Concatenación de todos los DataFrames:\n",
    "df_concatenado = pd.concat(dataframes, ignore_index=True)\n",
    "\n",
    "# Generación del DataFrame concatenado en un nuevo archivo CSV:\n",
    "df_concatenado.to_csv(\"../01-Ficheros Concatenados/emigrantes.csv\", index=False, encoding=\"UTF-8\")"
   ]
  },
  {
   "cell_type": "markdown",
   "metadata": {},
   "source": [
    "### Gini"
   ]
  },
  {
   "cell_type": "code",
   "execution_count": 5,
   "metadata": {},
   "outputs": [],
   "source": [
    "# Ruta de los archivos CSV:\n",
    "ruta_archivos = \"../Data/Gini/*.csv\" \n",
    "\n",
    "# Lista de todos los archivos CSV en la carpeta:\n",
    "archivos_csv = glob.glob(ruta_archivos)\n",
    "\n",
    "# Inicialización de una lista vacía:\n",
    "dataframes = []\n",
    "\n",
    "# Iteración sobre la lista de archivos CSV:\n",
    "for i, archivo in enumerate(archivos_csv):\n",
    "    if i == 0:\n",
    "        # Lectura el primer archivo CSV, incluyendo el encabezado:\n",
    "        df = pd.read_csv(archivo)\n",
    "    else:\n",
    "        # Lectura del resto de archivos quitando el encabezado:\n",
    "        df = pd.read_csv(archivo, header=0)\n",
    "    \n",
    "    # Inclusión a la lista:\n",
    "    dataframes.append(df)\n",
    "\n",
    "# Concatenación de todos los DataFrames:\n",
    "df_concatenado = pd.concat(dataframes, ignore_index=True)\n",
    "\n",
    "# Generación del DataFrame concatenado en un nuevo archivo CSV:\n",
    "df_concatenado.to_csv(\"../01-Ficheros Concatenados/gini.csv\", index=False, encoding=\"UTF-8\")"
   ]
  },
  {
   "cell_type": "markdown",
   "metadata": {},
   "source": [
    "### Incidentes"
   ]
  },
  {
   "cell_type": "code",
   "execution_count": 6,
   "metadata": {},
   "outputs": [],
   "source": [
    "# Ruta de los archivos CSV:\n",
    "ruta_archivos = \"../Data/Incidentes/*.csv\" \n",
    "\n",
    "# Lista de todos los archivos CSV en la carpeta:\n",
    "archivos_csv = glob.glob(ruta_archivos)\n",
    "\n",
    "# Inicialización de una lista vacía:\n",
    "dataframes = []\n",
    "\n",
    "# Iteración sobre la lista de archivos CSV:\n",
    "for i, archivo in enumerate(archivos_csv):\n",
    "    if i == 0:\n",
    "        # Lectura el primer archivo CSV, incluyendo el encabezado:\n",
    "        df = pd.read_csv(archivo)\n",
    "\n",
    "    else:\n",
    "        # Lectura del resto de archivos quitando el encabezado:\n",
    "        df = pd.read_csv(archivo, header=0)\n",
    "  \n",
    "    # Inclusión a la lista:\n",
    "    dataframes.append(df)\n",
    "\n",
    "# Concatenación de todos los DataFrames:\n",
    "df_concatenado = pd.concat(dataframes, ignore_index=True)\n",
    "\n",
    "\n",
    "# Generación del DataFrame concatenado en un nuevo archivo CSV:\n",
    "df_concatenado.to_csv(\"../01-Ficheros Concatenados/incidentes.csv\", index=False)"
   ]
  },
  {
   "cell_type": "markdown",
   "metadata": {},
   "source": [
    "### Inmigrantes"
   ]
  },
  {
   "cell_type": "code",
   "execution_count": 7,
   "metadata": {},
   "outputs": [],
   "source": [
    "# Ruta de los archivos CSV:\n",
    "ruta_archivos = \"../Data/Inmigrantes/*.csv\" \n",
    "\n",
    "# Lista de todos los archivos CSV en la carpeta:\n",
    "archivos_csv = glob.glob(ruta_archivos)\n",
    "\n",
    "# Inicialización de una lista vacía:\n",
    "dataframes = []\n",
    "\n",
    "# Iteración sobre la lista de archivos CSV:\n",
    "for i, archivo in enumerate(archivos_csv):\n",
    "    if i == 0:\n",
    "        # Lectura el primer archivo CSV, incluyendo el encabezado:\n",
    "        df = pd.read_csv(archivo)\n",
    "    else:\n",
    "        # Lectura del resto de archivos quitando el encabezado:\n",
    "        df = pd.read_csv(archivo, header=0)\n",
    "    \n",
    "    # Inclusión a la lista:\n",
    "    dataframes.append(df)\n",
    "\n",
    "# Concatenación de todos los DataFrames:\n",
    "df_concatenado = pd.concat(dataframes, ignore_index=True)\n",
    "\n",
    "# Generación del DataFrame concatenado en un nuevo archivo CSV:\n",
    "df_concatenado.to_csv(\"../01-Ficheros Concatenados/inmigrantes.csv\", index=False, encoding=\"UTF-8\")"
   ]
  },
  {
   "cell_type": "markdown",
   "metadata": {},
   "source": [
    "### Nacimientos"
   ]
  },
  {
   "cell_type": "code",
   "execution_count": 8,
   "metadata": {},
   "outputs": [],
   "source": [
    "# Ruta de los archivos CSV:\n",
    "ruta_archivos = \"../Data/Nacimientos/*.csv\" \n",
    "\n",
    "# Lista de todos los archivos CSV en la carpeta:\n",
    "archivos_csv = glob.glob(ruta_archivos)\n",
    "\n",
    "# Inicialización de una lista vacía:\n",
    "dataframes = []\n",
    "\n",
    "# Iteración sobre la lista de archivos CSV:\n",
    "for i, archivo in enumerate(archivos_csv):\n",
    "    if i == 0:\n",
    "        # Lectura el primer archivo CSV, incluyendo el encabezado:\n",
    "        df = pd.read_csv(archivo)\n",
    "    else:\n",
    "        # Lectura del resto de archivos quitando el encabezado:\n",
    "        df = pd.read_csv(archivo, header=0)\n",
    "    \n",
    "    # Inclusión a la lista:\n",
    "    dataframes.append(df)\n",
    "\n",
    "# Concatenación de todos los DataFrames:\n",
    "df_concatenado = pd.concat(dataframes, ignore_index=True)\n",
    "\n",
    "# Generación del DataFrame concatenado en un nuevo archivo CSV:\n",
    "df_concatenado.to_csv(\"../01-Ficheros Concatenados/nacimientos.csv\", index=False, encoding=\"UTF-8\")"
   ]
  },
  {
   "cell_type": "markdown",
   "metadata": {},
   "source": [
    "### Número de personas por domicilio"
   ]
  },
  {
   "cell_type": "code",
   "execution_count": 9,
   "metadata": {},
   "outputs": [],
   "source": [
    "# Ruta de los archivos CSV:\n",
    "ruta_archivos = \"../Data/Personas por domicilio/*.csv\" \n",
    "\n",
    "# Lista de todos los archivos CSV en la carpeta:\n",
    "archivos_csv = glob.glob(ruta_archivos)\n",
    "\n",
    "# Inicialización de una lista vacía:\n",
    "dataframes = []\n",
    "\n",
    "# Iteración sobre la lista de archivos CSV:\n",
    "for i, archivo in enumerate(archivos_csv):\n",
    "    if i == 0:\n",
    "        # Lectura el primer archivo CSV, incluyendo el encabezado:\n",
    "        df = pd.read_csv(archivo)\n",
    "    else:\n",
    "        # Lectura del resto de archivos quitando el encabezado:\n",
    "        df = pd.read_csv(archivo, header=0)\n",
    "    \n",
    "    # Inclusión a la lista:\n",
    "    dataframes.append(df)\n",
    "\n",
    "# Concatenación de todos los DataFrames:\n",
    "df_concatenado = pd.concat(dataframes, ignore_index=True)\n",
    "\n",
    "# Generación del DataFrame concatenado en un nuevo archivo CSV:\n",
    "df_concatenado.to_csv(\"../01-Ficheros Concatenados/personas_por_domicilio.csv\", index=False, encoding=\"UTF-8\")"
   ]
  },
  {
   "cell_type": "markdown",
   "metadata": {},
   "source": [
    "### Renta Bruta Persona"
   ]
  },
  {
   "cell_type": "code",
   "execution_count": 10,
   "metadata": {},
   "outputs": [],
   "source": [
    "# Ruta de los archivos CSV:\n",
    "ruta_archivos = \"../Data/Renta Bruta Persona/*.csv\" \n",
    "\n",
    "# Lista de todos los archivos CSV en la carpeta:\n",
    "archivos_csv = glob.glob(ruta_archivos)\n",
    "\n",
    "# Inicialización de una lista vacía:\n",
    "dataframes = []\n",
    "\n",
    "# Iteración sobre la lista de archivos CSV:\n",
    "for i, archivo in enumerate(archivos_csv):\n",
    "    if i == 0:\n",
    "        # Lectura el primer archivo CSV, incluyendo el encabezado:\n",
    "        df = pd.read_csv(archivo)\n",
    "    else:\n",
    "        # Lectura del resto de archivos quitando el encabezado:\n",
    "        df = pd.read_csv(archivo, header=0)\n",
    "    \n",
    "    # Inclusión a la lista:\n",
    "    dataframes.append(df)\n",
    "\n",
    "# Concatenación de todos los DataFrames:\n",
    "df_concatenado = pd.concat(dataframes, ignore_index=True)\n",
    "\n",
    "# Generación del DataFrame concatenado en un nuevo archivo CSV:\n",
    "df_concatenado.to_csv(\"../01-Ficheros Concatenados/renta_bruta_persona.csv\", index=False, encoding=\"UTF-8\")"
   ]
  },
  {
   "cell_type": "markdown",
   "metadata": {},
   "source": [
    "### Valor catastral"
   ]
  },
  {
   "cell_type": "code",
   "execution_count": 11,
   "metadata": {},
   "outputs": [],
   "source": [
    "# Ruta de los archivos CSV:\n",
    "ruta_archivos = \"../Data/ValorCatastral/*.csv\" \n",
    "\n",
    "# Lista de todos los archivos CSV en la carpeta:\n",
    "archivos_csv = glob.glob(ruta_archivos)\n",
    "\n",
    "# Inicialización de una lista vacía:\n",
    "dataframes = []\n",
    "\n",
    "# Iteración sobre la lista de archivos CSV:\n",
    "for i, archivo in enumerate(archivos_csv):\n",
    "    if i == 0:\n",
    "        # Lectura el primer archivo CSV, incluyendo el encabezado:\n",
    "        df = pd.read_csv(archivo)\n",
    "    else:\n",
    "        # Lectura del resto de archivos quitando el encabezado:\n",
    "        df = pd.read_csv(archivo, header=0)\n",
    "    \n",
    "    # Inclusión a la lista:\n",
    "    dataframes.append(df)\n",
    "\n",
    "# Concatenación de todos los DataFrames:\n",
    "df_concatenado = pd.concat(dataframes, ignore_index=True)\n",
    "\n",
    "# Generación del DataFrame concatenado en un nuevo archivo CSV:\n",
    "df_concatenado.to_csv(\"../01-Ficheros Concatenados/valor_catastral.csv\", index=False, encoding=\"UTF-8\")"
   ]
  }
 ],
 "metadata": {
  "kernelspec": {
   "display_name": "Python 3 (ipykernel)",
   "language": "python",
   "name": "python3"
  },
  "language_info": {
   "codemirror_mode": {
    "name": "ipython",
    "version": 3
   },
   "file_extension": ".py",
   "mimetype": "text/x-python",
   "name": "python",
   "nbconvert_exporter": "python",
   "pygments_lexer": "ipython3",
   "version": "3.10.11"
  }
 },
 "nbformat": 4,
 "nbformat_minor": 2
}
