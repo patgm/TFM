{
 "cells": [
  {
   "cell_type": "markdown",
   "metadata": {},
   "source": [
    "### Importación de liberías"
   ]
  },
  {
   "cell_type": "code",
   "execution_count": 1,
   "metadata": {},
   "outputs": [],
   "source": [
    "import pandas as pd\n",
    "from shapely import wkt\n",
    "import geojson\n",
    "import geopandas as gpd\n",
    "import matplotlib.pyplot as plt"
   ]
  },
  {
   "cell_type": "markdown",
   "metadata": {},
   "source": [
    "### Precio de venta vivienda:"
   ]
  },
  {
   "cell_type": "code",
   "execution_count": 2,
   "metadata": {},
   "outputs": [],
   "source": [
    "# Lectura el primer archivo CSV, incluyendo el encabezado:\n",
    "df = pd.read_csv('../Data/h2maveanualt3b.csv')\n",
    "\n",
    "# División de la columna barris en dos columnas  con el código del barrio y el nombre:\n",
    "df[['Cod_Barrio', 'Nom_Barrio']] = df['Barris'].str.split('.', expand=True)\n",
    "\n",
    "# Eliminación columnas:\n",
    "df = df.drop(columns=['Barris','Dte.','Unnamed: 7','Unnamed: 8','Unnamed: 9'])\n",
    "\n",
    "# Ordenación de las columnas:\n",
    "orden_columnas = ['Cod_Barrio', 'Nom_Barrio', '2007','2008','2009','2010','2011']\n",
    "df = df.reindex(columns=orden_columnas)\n",
    "\n",
    "df = df.melt(id_vars=['Cod_Barrio', 'Nom_Barrio'], var_name='Anno', value_name='Precio_Venta')\n",
    "\n",
    "# Exportación del fichero:\n",
    "df.to_csv('../03-Evolucion Precios Procesados/evol_precio_venta_vivienda.csv', sep=';', decimal=',', index=False)\n"
   ]
  },
  {
   "cell_type": "markdown",
   "metadata": {},
   "source": [
    "### Precio de oferta de los locales comerciales:"
   ]
  },
  {
   "cell_type": "code",
   "execution_count": 3,
   "metadata": {},
   "outputs": [],
   "source": [
    "# Lectura el primer archivo CSV, incluyendo el encabezado:\n",
    "df = pd.read_csv('../Data/locveevolucio.csv')\n",
    "\n",
    "# División de la columna barris en dos columnas  con el código del barrio y el nombre:\n",
    "df[['Cod_Barrio', 'Nom_Barrio']] = df['BARRIS'].str.split('.', expand=True)\n",
    "\n",
    "# Eliminación columnas:\n",
    "df = df.drop(columns=['BARRIS','DTE'])\n",
    "\n",
    "# Renombramiento de las columnas:\n",
    "df = df.rename(columns={'DOSZEROONZE':'2011','DOSZERODEU':'2010','DOSZEROZERONOU':'2009','DOSZEROZEROVUIT':'2008'})\n",
    "\n",
    "# Ordenación de las columnas:\n",
    "orden_columnas = ['Cod_Barrio', 'Nom_Barrio', '2008','2009','2010','2011']\n",
    "df = df.reindex(columns=orden_columnas)\n",
    "\n",
    "df = df.melt(id_vars=['Cod_Barrio', 'Nom_Barrio'], var_name='Anno', value_name='Precio_Oferta')\n",
    "\n",
    "# Exportación del fichero:\n",
    "df.to_csv('../03-Evolucion Precios Procesados/evol_precio_oferta_local.csv', sep=';', decimal=',', index=False)\n"
   ]
  }
 ],
 "metadata": {
  "kernelspec": {
   "display_name": "BaseGrafos",
   "language": "python",
   "name": "python3"
  },
  "language_info": {
   "codemirror_mode": {
    "name": "ipython",
    "version": 3
   },
   "file_extension": ".py",
   "mimetype": "text/x-python",
   "name": "python",
   "nbconvert_exporter": "python",
   "pygments_lexer": "ipython3",
   "version": "3.10.13"
  }
 },
 "nbformat": 4,
 "nbformat_minor": 2
}
