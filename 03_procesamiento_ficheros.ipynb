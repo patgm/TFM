{
 "cells": [
  {
   "cell_type": "markdown",
   "metadata": {},
   "source": [
    "## Procesamiento ficheros\n",
    "Este notebook de python se encargas de procesar los ficheros concatenados que se obtienen con el notebook concatenacion_ficheros.ipynb."
   ]
  },
  {
   "cell_type": "markdown",
   "metadata": {},
   "source": [
    "### Importación de librerías:"
   ]
  },
  {
   "cell_type": "code",
   "execution_count": 2,
   "metadata": {},
   "outputs": [],
   "source": [
    "import pandas as pd"
   ]
  },
  {
   "cell_type": "markdown",
   "metadata": {},
   "source": [
    "### Defunciones:"
   ]
  },
  {
   "cell_type": "code",
   "execution_count": 2,
   "metadata": {},
   "outputs": [],
   "source": [
    "# Lectura del csv de defunciones:\n",
    "df = pd.read_csv('../01-Ficheros Concatenados/defunciones.csv')\n",
    "\n",
    "# En el campo valor se sustituyen aquellos valores sin informar por 0:\n",
    "df['Valor']=df['Valor'].replace('..',0)\n",
    "\n",
    "# Se convierte el campo valor de str a int para poder sumarlo:\n",
    "df['Valor']=df['Valor'].astype(int)\n",
    "\n",
    "# Se eliminan las columnas que no son necesarias:\n",
    "df = df.drop(columns=['AEB','Seccio_Censal','SEXE','EDAT_Q'])\n",
    "\n",
    "# Se suman los valores de la columna 'valor':\n",
    "df_agrupado = df.groupby(['Any','Codi_Districte','Nom_Districte','Codi_Barri', 'Nom_Barri'], as_index=False)['Valor'].sum()\n",
    "\n",
    "# Se guarda el DataFrame modificado en un nuevo archivo CSV \n",
    "df_agrupado = df_agrupado.rename(columns={'Any':'Anno','Codi_Districte':'Cod_Distrito','Nom_Districte':'Nom_Distrito','Codi_Barri':'Cod_Barrio', 'Nom_Barri':'Nom_Barrio', 'Valor': 'Defunciones'})\n",
    "df_agrupado.to_csv('../03-Ficheros Procesados/defunciones_procesado.csv', encoding='UTF-8', index=False)\n"
   ]
  },
  {
   "cell_type": "markdown",
   "metadata": {},
   "source": [
    "### Densidad poblacional:"
   ]
  },
  {
   "cell_type": "code",
   "execution_count": 3,
   "metadata": {},
   "outputs": [],
   "source": [
    "# Lectura del fichero de densidad:\n",
    "df = pd.read_csv('../01-Ficheros Concatenados/densidad.csv')\n",
    "\n",
    "# Se eliminan las columnas que no se consideran necesarias necesarias:\n",
    "df = df.drop(columns=['Densitat neta (hab/ha)','Superfície Residencial (ha)'])\n",
    "\n",
    "# Se cambia el nombre de las columnas\n",
    "df=df.rename(columns={'Any':'Anno','Codi_Districte':'Cod_Distrito','Nom_Districte':'Nom_Distrito','Codi_Barri':'Cod_Barrio', 'Nom_Barri':'Nom_Barrio', 'Població': 'Habitantes', 'Superfície(ha)': 'Superficie(ha)', 'Densitat(hab/ha)': 'Densidad (hab/ha)'})\n",
    "\n",
    "# Se guarda el fichero modificado:\n",
    "\n",
    "df.to_csv('../03-Ficheros Procesados/densidad_procesado.csv', encoding='UTF-8', index=False)"
   ]
  },
  {
   "cell_type": "markdown",
   "metadata": {},
   "source": [
    "### Emigrantes:"
   ]
  },
  {
   "cell_type": "code",
   "execution_count": 4,
   "metadata": {},
   "outputs": [],
   "source": [
    "# Lectura del csv de emigrantes:\n",
    "df = pd.read_csv('../01-Ficheros Concatenados/emigrantes.csv')\n",
    "\n",
    "# En el campo valor se sustituyen aquellos valores sin informar por 0:\n",
    "df['Valor']=df['Valor'].replace('..',0)\n",
    "\n",
    "# Se convierte el campo valor de str a int para poder sumarlo:\n",
    "df['Valor']=df['Valor'].astype(int)\n",
    "\n",
    "# Se eliminan las columnas que no son necesarias:\n",
    "df = df.drop(columns=['AEB','Seccio_Censal','SEXE','EDAT_Q'])\n",
    "\n",
    "# Se suman los valores de la columna 'valor':\n",
    "df_agrupado = df.groupby(['Any','Codi_Districte','Nom_Districte','Codi_Barri', 'Nom_Barri'], as_index=False)['Valor'].sum()\n",
    "\n",
    "# Se guarda el DataFrame modificado en un nuevo archivo CSV \n",
    "df_agrupado = df_agrupado.rename(columns={'Any':'Anno','Codi_Districte':'Cod_Distrito','Nom_Districte':'Nom_Distrito','Codi_Barri':'Cod_Barrio', 'Nom_Barri':'Nom_Barrio', 'Valor': 'Emigrantes'})\n",
    "df_agrupado.to_csv('../03-Ficheros Procesados/emigrantes_procesado.csv', encoding='UTF-8', index=False)"
   ]
  },
  {
   "cell_type": "markdown",
   "metadata": {},
   "source": [
    "### Gini:"
   ]
  },
  {
   "cell_type": "code",
   "execution_count": 5,
   "metadata": {},
   "outputs": [],
   "source": [
    "# Lectura del csv de gini:\n",
    "df = pd.read_csv('../01-Ficheros Concatenados/gini.csv')\n",
    "\n",
    "# En el campo 'Index_Gini' se sustituyen aquellos valores sin informar por 0 y se convierte en numérico:\n",
    "df['Index_Gini']=df['Index_Gini'].replace('-',0.0)\n",
    "df['Index_Gini']=df['Index_Gini'].replace('.',0.0)\n",
    "df['Index_Gini']=df['Index_Gini'].astype(float)\n",
    "\n",
    "\n",
    "# Se eliminan las columnas que no son necesarias:\n",
    "df = df.drop(columns=['Seccio_Censal'])\n",
    "\n",
    "# Se suman los valores de la columna 'Index_Gini':\n",
    "df_agrupado = df.groupby(['Any','Codi_Districte','Nom_Districte','Codi_Barri', 'Nom_Barri'], as_index=False)['Index_Gini'].mean()\n",
    "\n",
    "# Se guarda el DataFrame modificado en un nuevo archivo CSV \n",
    "df_agrupado = df_agrupado.rename(columns={'Any':'Anno','Codi_Districte':'Cod_Distrito','Nom_Districte':'Nom_Distrito','Codi_Barri':'Cod_Barrio', 'Nom_Barri':'Nom_Barrio', 'Index_Gini': 'Indice_Gini'})\n",
    "df_agrupado.to_csv('../03-Ficheros Procesados/gini_procesado.csv', encoding='UTF-8', index=False)"
   ]
  },
  {
   "cell_type": "markdown",
   "metadata": {},
   "source": [
    "### Incidentes:"
   ]
  },
  {
   "cell_type": "code",
   "execution_count": 6,
   "metadata": {},
   "outputs": [
    {
     "name": "stderr",
     "output_type": "stream",
     "text": [
      "C:\\Users\\patry\\AppData\\Local\\Temp\\ipykernel_14932\\3052088041.py:2: DtypeWarning: Columns (7) have mixed types. Specify dtype option on import or set low_memory=False.\n",
      "  df = pd.read_csv('../01-Ficheros Concatenados/incidentes.csv')\n"
     ]
    }
   ],
   "source": [
    "# Lectura del csv de incidentes:\n",
    "df = pd.read_csv('../01-Ficheros Concatenados/incidentes.csv')\n",
    "\n",
    "# Se eliminan las columnas que no son necesarias:\n",
    "df=df.drop(columns=['Codi_Incident','Descripcio_Incident','Mes_any','Nom_mes'])\n",
    "\n",
    "# Se suman los valores de la columna 'Numero_incidents_GUB':\n",
    "df_agrupado = df.groupby(['NK_Any','Codi_districte','Nom_districte','Codi_barri', 'Nom_barri'], as_index=False)['Numero_incidents_GUB'].sum()\n",
    "df_agrupado['Numero_incidents_GUB']=df_agrupado['Numero_incidents_GUB'].astype(int)\n",
    "\n",
    "# Se guarda el DataFrame modificado en un nuevo archivo CSV \n",
    "df_agrupado = df_agrupado.rename(columns={'NK_Any':'Anno','Codi_districte':'Cod_Distrito','Nom_districte':'Nom_Distrito','Codi_barri':'Cod_Barrio', 'Nom_barri':'Nom_Barrio', 'Numero_incidents_GUB': 'Incidentes'})\n",
    "df_agrupado.to_csv('../03-Ficheros Procesados/incidentes_procesado.csv', encoding='UTF-8', index=False)"
   ]
  },
  {
   "cell_type": "markdown",
   "metadata": {},
   "source": [
    "### Inmigrantes:"
   ]
  },
  {
   "cell_type": "code",
   "execution_count": 7,
   "metadata": {},
   "outputs": [],
   "source": [
    "# Lectura del csv de inmigrantes:\n",
    "df = pd.read_csv('../01-Ficheros Concatenados/inmigrantes.csv')\n",
    "\n",
    "# En el campo valor se sustituyen aquellos valores sin informar por 0:\n",
    "df['Valor']=df['Valor'].replace('..',0)\n",
    "\n",
    "# Se convierte el campo valor de str a int para poder sumarlo:\n",
    "df['Valor']=df['Valor'].astype(int)\n",
    "\n",
    "# Se eliminan las columnas que no son necesarias:\n",
    "df = df.drop(columns=['AEB','Seccio_Censal','SEXE','EDAT_Q'])\n",
    "\n",
    "# Se suman los valores de la columna 'valor':\n",
    "df_agrupado = df.groupby(['Any','Codi_Districte','Nom_Districte','Codi_Barri', 'Nom_Barri'], as_index=False)['Valor'].sum()\n",
    "\n",
    "# Se guarda el DataFrame modificado en un nuevo archivo CSV \n",
    "df_agrupado = df_agrupado.rename(columns={'Any':'Anno','Codi_Districte':'Cod_Distrito','Nom_Districte':'Nom_Distrito','Codi_Barri':'Cod_Barrio', 'Nom_Barri':'Nom_Barrio', 'Valor': 'Inmigrantes'})\n",
    "df_agrupado.to_csv('../03-Ficheros Procesados/inmigrantes_procesado.csv', encoding='UTF-8', index=False)"
   ]
  },
  {
   "cell_type": "markdown",
   "metadata": {},
   "source": [
    "### Nacimientos:"
   ]
  },
  {
   "cell_type": "code",
   "execution_count": 8,
   "metadata": {},
   "outputs": [],
   "source": [
    "# Lectura del csv de nacimientos:\n",
    "df = pd.read_csv('../01-Ficheros Concatenados/nacimientos.csv')\n",
    "\n",
    "# En el campo valor se sustituyen aquellos valores sin informar por 0:\n",
    "df['Valor']=df['Valor'].replace('..',0)\n",
    "\n",
    "# Se convierte el campo valor de str a int para poder sumarlo:\n",
    "df['Valor']=df['Valor'].astype(int)\n",
    "\n",
    "# Se eliminan las columnas que no son necesarias:\n",
    "df = df.drop(columns=['AEB','Seccio_Censal','SEXE','NACIONALITAT_PAIS','NACIONALITAT_CONTINENT'])\n",
    "\n",
    "# Se suman los valores de la columna 'valor':\n",
    "df_agrupado = df.groupby(['Any','Codi_Districte','Nom_Districte','Codi_Barri', 'Nom_Barri'], as_index=False)['Valor'].sum()\n",
    "\n",
    "# Se guarda el DataFrame modificado en un nuevo archivo CSV \n",
    "df_agrupado = df_agrupado.rename(columns={'Any':'Anno','Codi_Districte':'Cod_Distrito','Nom_Districte':'Nom_Distrito','Codi_Barri':'Cod_Barrio', 'Nom_Barri':'Nom_Barrio', 'Valor': 'Nacimientos'})\n",
    "df_agrupado.to_csv('../03-Ficheros Procesados/nacimientos_procesado.csv', encoding='UTF-8', index=False)"
   ]
  },
  {
   "cell_type": "markdown",
   "metadata": {},
   "source": [
    "### Personas por domicilio:"
   ]
  },
  {
   "cell_type": "code",
   "execution_count": 9,
   "metadata": {},
   "outputs": [],
   "source": [
    "# Lectura del csv de personas por domicilio:\n",
    "df = pd.read_csv('../01-Ficheros Concatenados/personas_por_domicilio.csv')\n",
    "\n",
    "# En el campo valor se sustituyen aquellos valores sin informar por 0:\n",
    "df['Valor'] = df['Valor'].replace('..',0)\n",
    "\n",
    "# Se convierte el campo valor de str a int para poder sumarlo:\n",
    "df['Valor'] = df['Valor'].astype(int)\n",
    "\n",
    "# Convertir la columna 'Data_Referencia' a tipo datetime:\n",
    "df['Data_Referencia'] = pd.to_datetime(df['Data_Referencia'])\n",
    "df['Any'] = df['Data_Referencia'].dt.year\n",
    "\n",
    "# Se eliminan las columnas que no son necesarias:\n",
    "df = df.drop(columns=['AEB','Seccio_Censal','Data_Referencia'])\n",
    "\n",
    "# Se suman los valores de la columna 'valor':\n",
    "df_agrupado = df.groupby(['Any','Codi_Districte','Nom_Districte','Codi_Barri', 'Nom_Barri','N_PERSONES_AGG'], as_index=False)['Valor'].sum()\n",
    "\n",
    "# Se guarda el DataFrame modificado en un nuevo archivo CSV \n",
    "df_agrupado = df_agrupado.rename(columns={'Any':'Anno','Codi_Districte':'Cod_Distrito','Nom_Districte':'Nom_Distrito','Codi_Barri':'Cod_Barrio', 'Nom_Barri':'Nom_Barrio','N_PERSONES_AGG': 'Personas_en_domicilio' ,'Valor': 'Domicilios'})\n",
    "df_agrupado.to_csv('../03-Ficheros Procesados/personas_por_domicilio_procesado.csv', encoding='UTF-8', index=False)"
   ]
  },
  {
   "cell_type": "markdown",
   "metadata": {},
   "source": [
    "### Renta bruta por persona:"
   ]
  },
  {
   "cell_type": "code",
   "execution_count": 10,
   "metadata": {},
   "outputs": [],
   "source": [
    "# Lectura del csv de personas por domicilio:\n",
    "df = pd.read_csv('../01-Ficheros Concatenados/renta_bruta_persona.csv')\n",
    "\n",
    "# Se unifican en una columna los importes de las rentas, para ello se sustituyen por cero las no informadas.\n",
    "df['Import_Renda_Bruta_€                ']= df['Import_Renda_Bruta_€                '].fillna(0)\n",
    "df['Import_Renda_Bruta_€'] = df['Import_Renda_Bruta_€'].fillna(0)\n",
    "\n",
    "df['Renda_Bruta_€'] = df['Import_Renda_Bruta_€'] + df['Import_Renda_Bruta_€                ']\n",
    "\n",
    "# Se eliminan las columnas que no son necesarias:\n",
    "df = df.drop(columns=['Seccio_Censal','Import_Renda_Bruta_€','Import_Renda_Bruta_€                '])\n",
    "\n",
    "# Se hace la media de los valores de la columna 'Renda_Bruta_€':\n",
    "df_agrupado = df.groupby(['Any','Codi_Districte','Nom_Districte','Codi_Barri', 'Nom_Barri'], as_index=False)['Renda_Bruta_€'].mean()\n",
    "\n",
    "# Se guarda el DataFrame modificado en un nuevo archivo CSV \n",
    "df_agrupado = df_agrupado.rename(columns={'Any':'Anno','Codi_Districte':'Cod_Distrito','Nom_Districte':'Nom_Distrito','Codi_Barri':'Cod_Barrio', 'Nom_Barri':'Nom_Barrio','Renda_Bruta_€': 'Renta'})\n",
    "df_agrupado.to_csv('../03-Ficheros Procesados/renta_bruta_persona_procesado.csv', encoding='UTF-8', index=False)"
   ]
  },
  {
   "cell_type": "markdown",
   "metadata": {},
   "source": [
    "### Valor catastral:"
   ]
  },
  {
   "cell_type": "code",
   "execution_count": 4,
   "metadata": {},
   "outputs": [],
   "source": [
    "# Lectura del csv de valor catastral:\n",
    "df = pd.read_csv('../01-Ficheros Concatenados/valor_catastral.csv')\n",
    "\n",
    "# Se eliminan las columnas que no son necesarias:\n",
    "df = df.drop(columns=['Seccio_censal'])\n",
    "\n",
    "# Se hace la media de los valores de la columna 'Renda_Bruta_€':\n",
    "df_agrupado = df.groupby(['Any','Codi_districte','Nom_districte','Codi_barri', 'Nom_barri','Desc_valors'], as_index=False)['Valors'].mean()\n",
    "\n",
    "# Se guarda el DataFrame modificado en un nuevo archivo CSV \n",
    "df_agrupado = df_agrupado.rename(columns={'Any':'Anno','Codi_districte':'Cod_Distrito','Nom_districte':'Nom_Distrito','Codi_barri':'Cod_Barrio', 'Nom_barri':'Nom_Barrio','Desc_valors': 'Desc_valor_catastral','Valors': 'valor_catastral'})\n",
    "df_agrupado = df_agrupado[ df_agrupado['Desc_valor_catastral']=='Valor_cadastral_unitari_€/m2']\n",
    "df_agrupado.to_csv('../03-Ficheros Procesados/valor_catastral_procesado.csv', encoding='UTF-8', index=False)"
   ]
  }
 ],
 "metadata": {
  "kernelspec": {
   "display_name": "BaseGrafos",
   "language": "python",
   "name": "python3"
  },
  "language_info": {
   "codemirror_mode": {
    "name": "ipython",
    "version": 3
   },
   "file_extension": ".py",
   "mimetype": "text/x-python",
   "name": "python",
   "nbconvert_exporter": "python",
   "pygments_lexer": "ipython3",
   "version": "3.10.13"
  }
 },
 "nbformat": 4,
 "nbformat_minor": 2
}
