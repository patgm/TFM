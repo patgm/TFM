{
 "cells": [
  {
   "cell_type": "markdown",
   "metadata": {},
   "source": [
    "### Importación de liberías"
   ]
  },
  {
   "cell_type": "code",
   "execution_count": 1,
   "metadata": {},
   "outputs": [],
   "source": [
    "import pandas as pd\n",
    "from shapely import wkt\n",
    "import geojson\n",
    "import geopandas as gpd\n",
    "import matplotlib.pyplot as plt"
   ]
  },
  {
   "cell_type": "markdown",
   "metadata": {},
   "source": [
    "### Listado de asociaciones:"
   ]
  },
  {
   "cell_type": "code",
   "execution_count": 2,
   "metadata": {},
   "outputs": [],
   "source": [
    "# Lectura el primer archivo CSV, incluyendo el encabezado:\n",
    "df = pd.read_csv('../Data/opendatabcn_llista-equipaments_associacions-csv.csv', encoding='utf-16')\n",
    "\n",
    "# Selección de las columnas:\n",
    "columnas = ['name', 'geo_epgs_4326_lat','geo_epgs_4326_lon', 'addresses_neighborhood_id','addresses_neighborhood_name','addresses_district_id','addresses_district_name']\n",
    "df = df[columnas]\n",
    "\n",
    "# Cambio de nombre de las columnas:\n",
    "df_depurado = df.rename(columns={'name':'Asociacion', 'geo_epgs_4326_lat':'Latitud','geo_epgs_4326_lon':'Longitud','addresses_neighborhood_id':'cod_barrio','addresses_neighborhood_name':'nom_barrio','addresses_district_id': 'cod_distrito', 'addresses_district_name': 'nom_distrito'})\n",
    "# Filtrado de las columnas con coordenadas incorrectas y con los códigos de barrio  y distrito sin informar:\n",
    "df_depurado = df_depurado[(df_depurado['Latitud']>40) & (df_depurado['Longitud']>0)]\n",
    "df_depurado = df_depurado[~((df_depurado['cod_barrio'].isna()) & (df_depurado['cod_distrito'].isna()))]\n",
    "# Eliminación de duplicados:\n",
    "df_depurado = df_depurado.drop_duplicates()\n",
    "df_depurado.to_csv('../03-Listados Procesados/listado_asociaciones_procesado.csv',index=False, sep=';', decimal=',')"
   ]
  },
  {
   "cell_type": "markdown",
   "metadata": {},
   "source": [
    "### Listado de educación:"
   ]
  },
  {
   "cell_type": "code",
   "execution_count": 3,
   "metadata": {},
   "outputs": [],
   "source": [
    "# Lectura el primer archivo CSV, incluyendo el encabezado:\n",
    "df = pd.read_csv('../Data/opendatabcn_llista-equipaments_educacio-csv.csv', encoding='utf-16')\n",
    "\n",
    "# Selección de las columnas:\n",
    "columnas = ['name', 'geo_epgs_4326_lat','geo_epgs_4326_lon', 'addresses_neighborhood_id','addresses_neighborhood_name','addresses_district_id','addresses_district_name']\n",
    "df = df[columnas]\n",
    "\n",
    "# Cambio de nombre de las columnas:\n",
    "df_depurado = df.rename(columns={'name':'Centro_educativo', 'geo_epgs_4326_lat':'Latitud','geo_epgs_4326_lon':'Longitud','addresses_neighborhood_id':'cod_barrio','addresses_neighborhood_name':'nom_barrio','addresses_district_id': 'cod_distrito', 'addresses_district_name': 'nom_distrito'})\n",
    "# Filtrado de las columnas con coordenadas incorrectas y con los códigos de barrio  y distrito sin informar:\n",
    "df_depurado = df_depurado[(df_depurado['Latitud']>40) & (df_depurado['Longitud']>0)]\n",
    "df_depurado = df_depurado[~((df_depurado['cod_barrio'].isna()) & (df_depurado['cod_distrito'].isna()))]\n",
    "# Eliminación de duplicados:\n",
    "df_depurado = df_depurado.drop_duplicates()\n",
    "df_depurado.to_csv('../03-Listados Procesados/listado_educacion_procesado.csv',index=False, sep=';', decimal=',')"
   ]
  },
  {
   "cell_type": "markdown",
   "metadata": {},
   "source": [
    "### Listado de mercados:"
   ]
  },
  {
   "cell_type": "code",
   "execution_count": 4,
   "metadata": {},
   "outputs": [],
   "source": [
    "# Lectura el primer archivo CSV, incluyendo el encabezado:\n",
    "df = pd.read_csv('../Data/opendatabcn_llista-equipaments_mercats-i-centres-comercials-csv.csv', encoding='utf-16')\n",
    "\n",
    "# Selección de las columnas:\n",
    "columnas = ['name', 'geo_epgs_4326_lat','geo_epgs_4326_lon', 'addresses_neighborhood_id','addresses_neighborhood_name','addresses_district_id','addresses_district_name']\n",
    "df = df[columnas]\n",
    "\n",
    "# Cambio de nombre de las columnas:\n",
    "df_depurado = df.rename(columns={'name':'Mercado', 'geo_epgs_4326_lat':'Latitud','geo_epgs_4326_lon':'Longitud','addresses_neighborhood_id':'cod_barrio','addresses_neighborhood_name':'nom_barrio','addresses_district_id': 'cod_distrito', 'addresses_district_name': 'nom_distrito'})\n",
    "# Filtrado de las columnas con coordenadas incorrectas y con los códigos de barrio  y distrito sin informar:\n",
    "df_depurado = df_depurado[(df_depurado['Latitud']>40) & (df_depurado['Longitud']>0)]\n",
    "df_depurado = df_depurado[~((df_depurado['cod_barrio'].isna()) & (df_depurado['cod_distrito'].isna()))]\n",
    "# Eliminación de duplicados:\n",
    "df_depurado = df_depurado.drop_duplicates()\n",
    "df_depurado.to_csv('../03-Listados Procesados/listado_mercados_procesado.csv',index=False, sep=';', decimal=',')"
   ]
  },
  {
   "cell_type": "markdown",
   "metadata": {},
   "source": [
    "### Listado de centros comerciales:\n"
   ]
  },
  {
   "cell_type": "code",
   "execution_count": 5,
   "metadata": {},
   "outputs": [],
   "source": [
    "# Lectura el primer archivo CSV, incluyendo el encabezado:\n",
    "df = pd.read_csv('../Data/opendatabcn_mercats-centrescomercials_grans-centres-comercials.csv', encoding='utf-16')\n",
    "\n",
    "# Selección de las columnas:\n",
    "columnas = ['name', 'geo_epgs_4326_lat','geo_epgs_4326_lon', 'addresses_neighborhood_id','addresses_neighborhood_name','addresses_district_id','addresses_district_name']\n",
    "df = df[columnas]\n",
    "\n",
    "# Cambio de nombre de las columnas:\n",
    "df_depurado = df.rename(columns={'name':'Centro_comercial', 'geo_epgs_4326_lat':'Latitud','geo_epgs_4326_lon':'Longitud','addresses_neighborhood_id':'cod_barrio','addresses_neighborhood_name':'nom_barrio','addresses_district_id': 'cod_distrito', 'addresses_district_name': 'nom_distrito'})\n",
    "# Filtrado de las columnas con coordenadas incorrectas y con los códigos de barrio  y distrito sin informar:\n",
    "df_depurado = df_depurado[(df_depurado['Latitud']>40) & (df_depurado['Longitud']>0)]\n",
    "df_depurado = df_depurado[~((df_depurado['cod_barrio'].isna()) & (df_depurado['cod_distrito'].isna()))]\n",
    "# Eliminación de duplicados:\n",
    "df_depurado = df_depurado.drop_duplicates()\n",
    "df_depurado.to_csv('../03-Listados Procesados/listado_centros_comerciales_procesado.csv',index=False, sep=';', decimal=',')"
   ]
  },
  {
   "cell_type": "markdown",
   "metadata": {},
   "source": [
    "### Listado de equipamientos sanitarios:"
   ]
  },
  {
   "cell_type": "code",
   "execution_count": 6,
   "metadata": {},
   "outputs": [],
   "source": [
    "# Lectura el primer archivo CSV, incluyendo el encabezado:\n",
    "df = pd.read_csv('../Data/opendatabcn_llista-equipaments_sanitat-csv.csv', encoding='utf-16')\n",
    "\n",
    "# Selección de las columnas:\n",
    "columnas = ['name', 'geo_epgs_4326_lat','geo_epgs_4326_lon', 'addresses_neighborhood_id','addresses_neighborhood_name','addresses_district_id','addresses_district_name']\n",
    "df = df[columnas]\n",
    "\n",
    "# Cambio de nombre de las columnas:\n",
    "df_depurado = df.rename(columns={'name':'Centro_sanitario', 'geo_epgs_4326_lat':'Latitud','geo_epgs_4326_lon':'Longitud','addresses_neighborhood_id':'cod_barrio','addresses_neighborhood_name':'nom_barrio','addresses_district_id': 'cod_distrito', 'addresses_district_name': 'nom_distrito'})\n",
    "# Filtrado de las columnas con coordenadas incorrectas y con los códigos de barrio  y distrito sin informar:\n",
    "df_depurado = df_depurado[(df_depurado['Latitud']>40) & (df_depurado['Longitud']>0)]\n",
    "df_depurado = df_depurado[~((df_depurado['cod_barrio'].isna()) & (df_depurado['cod_distrito'].isna()))]\n",
    "# Eliminación de duplicados:\n",
    "df_depurado = df_depurado.drop_duplicates()\n",
    "df_depurado.to_csv('../03-Listados Procesados/listado_sanidad_procesado.csv',index=False, sep=';', decimal=',')"
   ]
  },
  {
   "cell_type": "markdown",
   "metadata": {},
   "source": [
    "### Listado de equipamientos de atención primaria:"
   ]
  },
  {
   "cell_type": "code",
   "execution_count": 7,
   "metadata": {},
   "outputs": [],
   "source": [
    "# Lectura el primer archivo CSV, incluyendo el encabezado:\n",
    "df = pd.read_csv('../Data/opendatabcn_sanitat_hospitals-i-centres-atencio-primaria.csv', encoding='utf-16')\n",
    "\n",
    "# Selección de las columnas:\n",
    "columnas = ['name', 'geo_epgs_4326_lat','geo_epgs_4326_lon', 'addresses_neighborhood_id','addresses_neighborhood_name','addresses_district_id','addresses_district_name']\n",
    "df = df[columnas]\n",
    "\n",
    "# Cambio de nombre de las columnas:\n",
    "df_depurado = df.rename(columns={'name':'Centro_sanitario', 'geo_epgs_4326_lat':'Latitud','geo_epgs_4326_lon':'Longitud','addresses_neighborhood_id':'cod_barrio','addresses_neighborhood_name':'nom_barrio','addresses_district_id': 'cod_distrito', 'addresses_district_name': 'nom_distrito'})\n",
    "# Filtrado de las columnas con coordenadas incorrectas y con los códigos de barrio  y distrito sin informar:\n",
    "df_depurado = df_depurado[(df_depurado['Latitud']>40) & (df_depurado['Longitud']>0)]\n",
    "df_depurado = df_depurado[~((df_depurado['cod_barrio'].isna()) & (df_depurado['cod_distrito'].isna()))]\n",
    "# Eliminación de duplicados:\n",
    "df_depurado = df_depurado.drop_duplicates()\n",
    "df_depurado.to_csv('../03-Listados Procesados/listado_atencion_primaria_procesado.csv',index=False, sep=';', decimal=',')"
   ]
  }
 ],
 "metadata": {
  "kernelspec": {
   "display_name": "BaseGrafos",
   "language": "python",
   "name": "python3"
  },
  "language_info": {
   "codemirror_mode": {
    "name": "ipython",
    "version": 3
   },
   "file_extension": ".py",
   "mimetype": "text/x-python",
   "name": "python",
   "nbconvert_exporter": "python",
   "pygments_lexer": "ipython3",
   "version": "3.10.13"
  }
 },
 "nbformat": 4,
 "nbformat_minor": 2
}
