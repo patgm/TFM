{
 "cells": [
  {
   "cell_type": "markdown",
   "metadata": {},
   "source": [
    "## Generación dataset final:"
   ]
  },
  {
   "cell_type": "markdown",
   "metadata": {},
   "source": [
    "### Importación de librerías:"
   ]
  },
  {
   "cell_type": "code",
   "execution_count": 2,
   "metadata": {},
   "outputs": [],
   "source": [
    "import pandas as pd\n",
    "import glob\n",
    "from functools import reduce"
   ]
  },
  {
   "cell_type": "markdown",
   "metadata": {},
   "source": [
    "### Generación fichero con las características de los Barrios de Barcelona:"
   ]
  },
  {
   "cell_type": "code",
   "execution_count": 64,
   "metadata": {},
   "outputs": [],
   "source": [
    "# Ruta de los archivos CSV:\n",
    "ruta_archivos = '../03-Ficheros Procesados/*.csv'\n",
    "\n",
    "# Lista de todos los archivos CSV en la carpeta:\n",
    "archivos_csv = glob.glob(ruta_archivos)\n",
    "\n",
    "# Inicialización de una lista vacía:\n",
    "dataframes = []\n",
    "\n",
    "# Iteración sobre la lista de archivos CSV:\n",
    "for i, archivo in enumerate(archivos_csv):\n",
    "    if i == 0:\n",
    "        # Lectura el primer archivo CSV, incluyendo el encabezado:\n",
    "        df = pd.read_csv(archivo)\n",
    "    else:\n",
    "        # Lectura del resto de archivos quitando el encabezado:\n",
    "        df = pd.read_csv(archivo, header=0)\n",
    "    \n",
    "    # Inclusión a la lista:\n",
    "    dataframes.append(df)\n",
    "\n",
    "# Concatenación de todos los DataFrames:\n",
    "df_concatenado = pd.concat(dataframes, ignore_index=True)\n",
    "\n",
    "# Unión por año, distrito y barrio:\n",
    "keys = df_concatenado[['Anno', 'Cod_Barrio', 'Cod_Distrito']].drop_duplicates()\n",
    "resultado = pd.merge(keys, df_concatenado, on=['Anno', 'Cod_Barrio', 'Cod_Distrito'], how='left')\n",
    "\n",
    "# Reemplazar los valores nulos por cero:\n",
    "resultado = resultado.fillna(0)\n",
    "\n",
    "# Unificación de los nombres de los barrios:\n",
    "barrios_unificados = {\n",
    "    1: \"el Raval\",\n",
    "    2: \"el Barri Gòtic\",\n",
    "    3: \"la Barceloneta\",\n",
    "        4: \"Sant Pere, Santa Caterina i la Ribera\",\n",
    "    5: \"el Fort Pienc\",\n",
    "    6: \"la Sagrada Família\",\n",
    "    7: \"la Dreta de l'Eixample\",\n",
    "    8: \"l'Antiga Esquerra de l'Eixample\",\n",
    "    9: \"la Nova Esquerra de l'Eixample\",\n",
    "    10: \"Sant Antoni\",\n",
    "    11: \"el Poble-sec\",\n",
    "    12: \"la Marina del Prat Vermell\",\n",
    "    13: \"la Marina de Port\",\n",
    "    14: \"la Font de la Guatlla\",\n",
    "    15: \"Hostafrancs\",\n",
    "    16: \"la Bordeta\",\n",
    "    17: \"Sants - Badal\",\n",
    "    18: \"Sants\",\n",
    "    19: \"les Corts\",\n",
    "    20: \"la Maternitat i Sant Ramon\",\n",
    "    21: \"Pedralbes\",\n",
    "    22: \"Vallvidrera, el Tibidabo i les Planes\",\n",
    "    23: \"Sarrià\",\n",
    "    24: \"les Tres Torres\",\n",
    "    25: \"Sant Gervasi - la Bonanova\",\n",
    "    26: \"Sant Gervasi - Galvany\",\n",
    "    27: \"el Putxet i el Farró\",\n",
    "    28: \"Vallcarca i els Penitents\",\n",
    "    29: \"el Coll\",\n",
    "    30: \"la Salut\",\n",
    "    31: \"la Vila de Gràcia\",\n",
    "    32: \"el Camp d'en Grassot i Gràcia Nova\",\n",
    "    33: \"el Baix Guinardó\",\n",
    "    34: \"Can Baró\",\n",
    "    35: \"el Guinardó\",\n",
    "    36: \"la Font d'en Fargues\",\n",
    "    37: \"el Carmel\",\n",
    "    38: \"la Teixonera\",\n",
    "    39: \"Sant Genís dels Agudells\",\n",
    "    40: \"Montbau\",\n",
    "    41: \"la Vall d'Hebron\",\n",
    "    42: \"la Clota\",\n",
    "    43: \"Horta\",\n",
    "    44: \"Vilapicina i la Torre Llobeta\",\n",
    "    45: \"Porta\",\n",
    "    46: \"el Turó de la Peira\",\n",
    "    47: \"Can Peguera\",\n",
    "    48: \"la Guineueta\",\n",
    "    49: \"Canyelles\",\n",
    "    50: \"les Roquetes\",\n",
    "    51: \"Verdun\",\n",
    "    52: \"la Prosperitat\",\n",
    "    53: \"la Trinitat Nova\",\n",
    "    54: \"Torre Baró\",\n",
    "    55: \"Ciutat Meridiana\",\n",
    "    56: \"Vallbona\",\n",
    "    57: \"la Trinitat Vella\",\n",
    "    58: \"Baró de Viver\",\n",
    "    59: \"el Bon Pastor\",\n",
    "    60: \"Sant Andreu\",\n",
    "    61: \"la Sagrera\",\n",
    "    62: \"el Congrés i els Indians\",\n",
    "    63: \"Navas\",\n",
    "    64: \"el Camp de l'Arpa del Clot\",\n",
    "    65: \"el Clot\",\n",
    "    66: \"el Parc i la Llacuna del Poblenou\",\n",
    "    67: \"la Vila Olímpica del Poblenou\",\n",
    "    68: \"el Poblenou\",\n",
    "    69: \"Diagonal Mar i el Front Marítim del Poblenou\",\n",
    "    70: \"el Besòs i el Maresme\",\n",
    "    71: \"Provençals del Poblenou\",\n",
    "    72: \"Sant Martí de Provençals\",\n",
    "    73: \"la Verneda i la Pau\"\n",
    "} \n",
    "# Unificación de los nombres de los distritos:\n",
    "\n",
    "distritos_unificados = {\n",
    "    1: \"Ciutat Vella\",\n",
    "    2: \"L'Eixample\",\n",
    "    3: \"Sants-Montjuïc\",\n",
    "    4:\"Les Corts\",\n",
    "    5:\"Sarrià-Sant Gervasi\",\n",
    "    6:\"Gràcia\",\n",
    "    7:\"Horta-Guinardó\",\n",
    "    8:\"Nou Barris\",\n",
    "    9:\"Sant Andreu\",\n",
    "    10:\"Sant Martí\"\n",
    "}\n",
    "# Se convierte a entero el código del barrio y se mapea con el diccionario de barrios:\n",
    "resultado['Cod_Barrio'] = resultado['Cod_Barrio'].astype(int)\n",
    "resultado['Nom_Barrio'] = resultado['Cod_Barrio'].map(barrios_unificados)\n",
    "\n",
    "# Se eliminan los posibles registros con el código de barrio mal informado:\n",
    "resultado = resultado[resultado['Cod_Barrio']>0]\n",
    "\n",
    "# Se convierte a entero el código del distrito y se mapea con el diccionario de distritos:\n",
    "resultado['Cod_Distrito'] = resultado['Cod_Distrito'].astype(int)\n",
    "resultado['Nom_Distrito'] = resultado['Cod_Distrito'].map(distritos_unificados)\n",
    "\n",
    "# Se eliminan los posibles registros con el código de distrito mal informado:\n",
    "resultado = resultado[resultado['Cod_Distrito']>0]\n",
    "\n",
    "# Generación de dataset final:\n",
    "resultado.to_csv('../04-Dataset Finales/dataset_BCN.csv', encoding='UTF-8', index=False, sep=';', decimal=',')\n"
   ]
  },
  {
   "cell_type": "markdown",
   "metadata": {},
   "source": [
    "### Generación fichero con los equipamientos de los Barrios de Barcelona:"
   ]
  },
  {
   "cell_type": "code",
   "execution_count": 55,
   "metadata": {},
   "outputs": [],
   "source": [
    "# Lectura de los CSV que contienen los equipamentos procesados, incluyendo el encabezado:\n",
    "\n",
    "asociaciones = pd.read_csv('../03-Listados Procesados/listado_asociaciones_procesado.csv', sep=';')\n",
    "atencion_primaria =  pd.read_csv('../03-Listados Procesados/listado_atencion_primaria_procesado.csv', sep=';')\n",
    "centros_comerciales =  pd.read_csv('../03-Listados Procesados/listado_centros_comerciales_procesado.csv', sep=';')\n",
    "educacion =  pd.read_csv('../03-Listados Procesados/listado_educacion_procesado.csv', sep=';')\n",
    "mercados =  pd.read_csv('../03-Listados Procesados/listado_mercados_procesado.csv', sep=';')\n",
    "sanidad =  pd.read_csv('../03-Listados Procesados/listado_sanidad_procesado.csv', sep=';')\n"
   ]
  },
  {
   "cell_type": "code",
   "execution_count": 56,
   "metadata": {},
   "outputs": [],
   "source": [
    "# Cuenta del número de asociaciones distintas en cada barrio:\n",
    "n_asociaciones = asociaciones.groupby(['cod_barrio','cod_distrito','nom_barrio','nom_distrito'])['Asociacion'].nunique().reset_index()\n",
    "\n",
    "# Adaptación de las columnas:\n",
    "n_asociaciones.columns = ['cod_barrio','cod_distrito','nom_barrio','nom_distrito', 'N_asociaciones']\n",
    "n_asociaciones['cod_barrio'] = n_asociaciones['cod_barrio'].str.replace(',', '.').astype(float).astype(int)\n",
    "n_asociaciones['cod_distrito'] = n_asociaciones['cod_distrito'].str.replace(',', '.').astype(float).astype(int)\n"
   ]
  },
  {
   "cell_type": "code",
   "execution_count": 57,
   "metadata": {},
   "outputs": [],
   "source": [
    "# Cuenta del número de atención primaria distintas en cada barrio:\n",
    "n_aten_prim = atencion_primaria.groupby(['cod_barrio','cod_distrito','nom_barrio','nom_distrito'])['Centro_sanitario'].nunique().reset_index()\n",
    "\n",
    "# Adaptación de las columnas:\n",
    "n_aten_prim.columns = ['cod_barrio','cod_distrito','nom_barrio','nom_distrito', 'N_establecimientos_aten_primaria']\n"
   ]
  },
  {
   "cell_type": "code",
   "execution_count": 58,
   "metadata": {},
   "outputs": [],
   "source": [
    "# Cuenta del número de centros comerciales distintos en cada barrio:\n",
    "n_cc = centros_comerciales.groupby(['cod_barrio','cod_distrito','nom_barrio','nom_distrito'])['Centro_comercial'].nunique().reset_index()\n",
    "\n",
    "# Adaptación de las columnas:\n",
    "n_cc.columns = ['cod_barrio','cod_distrito','nom_barrio','nom_distrito', 'N_centros_comerciales']"
   ]
  },
  {
   "cell_type": "code",
   "execution_count": 59,
   "metadata": {},
   "outputs": [],
   "source": [
    "# Cuenta del número de asociaciones distintas en cada barrio:\n",
    "n_c_educativos = educacion.groupby(['cod_barrio','cod_distrito','nom_barrio','nom_distrito'])['Centro_educativo'].nunique().reset_index()\n",
    "\n",
    "# Adaptación de las columnas:\n",
    "n_c_educativos.columns = ['cod_barrio','cod_distrito','nom_barrio','nom_distrito', 'N_centros_educativos']\n",
    "n_c_educativos['cod_barrio'] = n_c_educativos['cod_barrio'].str.replace(',', '.').astype(float).astype(int)\n",
    "n_c_educativos['cod_distrito'] = n_c_educativos['cod_distrito'].str.replace(',', '.').astype(float).astype(int)"
   ]
  },
  {
   "cell_type": "code",
   "execution_count": 60,
   "metadata": {},
   "outputs": [],
   "source": [
    "# Cuenta del número de asociaciones distintas en cada barrio:\n",
    "n_mercados = mercados.groupby(['cod_barrio','cod_distrito','nom_barrio','nom_distrito'])['Mercado'].nunique().reset_index()\n",
    "\n",
    "# Adaptación de las columnas:\n",
    "n_mercados.columns = ['cod_barrio','cod_distrito','nom_barrio','nom_distrito', 'N_mercados']"
   ]
  },
  {
   "cell_type": "code",
   "execution_count": 61,
   "metadata": {},
   "outputs": [],
   "source": [
    "# Cuenta del número de asociaciones distintas en cada barrio:\n",
    "n_sanidad = sanidad.groupby(['cod_barrio','cod_distrito','nom_barrio','nom_distrito'])['Centro_sanitario'].nunique().reset_index()\n",
    "\n",
    "# Adaptación de las columnas:\n",
    "n_sanidad.columns = ['cod_barrio','cod_distrito','nom_barrio','nom_distrito', 'N_puntos_sanitarios']"
   ]
  },
  {
   "cell_type": "code",
   "execution_count": 62,
   "metadata": {},
   "outputs": [],
   "source": [
    "dataframes=[n_asociaciones, n_aten_prim, n_c_educativos, n_cc, n_mercados,n_sanidad]\n",
    "\n",
    "# Concatenación de todos los DataFrames:\n",
    "df_concatenado = pd.concat(dataframes, ignore_index=True)\n",
    "\n",
    "# Unión por distrito y barrio:\n",
    "keys = df_concatenado[['cod_barrio', 'cod_distrito', 'nom_barrio', 'nom_distrito']].drop_duplicates()\n",
    "resultado = pd.merge(keys, df_concatenado, on=['cod_barrio', 'cod_distrito','nom_barrio', 'nom_distrito'], how='left')\n",
    "\n",
    "# Reemplazar los valores nulos por cero y agrupar en una única línea todos los KPIs por barrio:\n",
    "resultado = resultado.fillna(0)\n",
    "resultado = resultado.groupby(['cod_barrio', 'cod_distrito', 'nom_barrio', 'nom_distrito']).sum().reset_index()\n",
    "resultado.to_csv('../04-Dataset Finales/dataset_equipamentos_BCN.csv', encoding='UTF-8', index=False, sep=';', decimal=',')\n"
   ]
  }
 ],
 "metadata": {
  "kernelspec": {
   "display_name": "BaseGrafos",
   "language": "python",
   "name": "python3"
  },
  "language_info": {
   "codemirror_mode": {
    "name": "ipython",
    "version": 3
   },
   "file_extension": ".py",
   "mimetype": "text/x-python",
   "name": "python",
   "nbconvert_exporter": "python",
   "pygments_lexer": "ipython3",
   "version": "3.10.13"
  }
 },
 "nbformat": 4,
 "nbformat_minor": 2
}
